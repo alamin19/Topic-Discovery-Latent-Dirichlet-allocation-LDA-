{
  "nbformat": 4,
  "nbformat_minor": 0,
  "metadata": {
    "colab": {
      "name": "Topic Discovery.ipynb",
      "provenance": [],
      "authorship_tag": "ABX9TyO3okPMp8O9zk6V6341jhgI",
      "include_colab_link": true
    },
    "kernelspec": {
      "name": "python3",
      "display_name": "Python 3"
    },
    "language_info": {
      "name": "python"
    }
  },
  "cells": [
    {
      "cell_type": "markdown",
      "metadata": {
        "id": "view-in-github",
        "colab_type": "text"
      },
      "source": [
        "<a href=\"https://colab.research.google.com/github/alamin19/Topic-Discovery-Latent-Dirichlet-allocation-LDA-/blob/main/Topic_Discovery.ipynb\" target=\"_parent\"><img src=\"https://colab.research.google.com/assets/colab-badge.svg\" alt=\"Open In Colab\"/></a>"
      ]
    },
    {
      "cell_type": "code",
      "metadata": {
        "id": "yHL-vSDyaWzG"
      },
      "source": [
        "data= pd.read_csv(\"read_drug_reviews.txt\", sep='\\s*\"\\s*',  header=None, encoding='ascii', engine='python', names=[\"review\"])"
      ],
      "execution_count": null,
      "outputs": []
    },
    {
      "cell_type": "code",
      "metadata": {
        "id": "2JpHi4GoYjZU",
        "outputId": "3ddb8f5e-db4b-4bcf-ff6f-1f7b8e4df309"
      },
      "source": [
        "data.head()"
      ],
      "execution_count": null,
      "outputs": [
        {
          "output_type": "execute_result",
          "data": {
            "text/html": [
              "<div>\n",
              "<style scoped>\n",
              "    .dataframe tbody tr th:only-of-type {\n",
              "        vertical-align: middle;\n",
              "    }\n",
              "\n",
              "    .dataframe tbody tr th {\n",
              "        vertical-align: top;\n",
              "    }\n",
              "\n",
              "    .dataframe thead th {\n",
              "        text-align: right;\n",
              "    }\n",
              "</style>\n",
              "<table border=\"1\" class=\"dataframe\">\n",
              "  <thead>\n",
              "    <tr style=\"text-align: right;\">\n",
              "      <th></th>\n",
              "      <th>review</th>\n",
              "    </tr>\n",
              "  </thead>\n",
              "  <tbody>\n",
              "    <tr>\n",
              "      <th>0</th>\n",
              "      <td>'Hey Guys,  Its been 4 months since my last po...</td>\n",
              "    </tr>\n",
              "    <tr>\n",
              "      <th>1</th>\n",
              "      <td>'I was recently referred to a endocrinologist ...</td>\n",
              "    </tr>\n",
              "    <tr>\n",
              "      <th>2</th>\n",
              "      <td>'Ive taken one dose of Trulicity and while I d...</td>\n",
              "    </tr>\n",
              "    <tr>\n",
              "      <th>3</th>\n",
              "      <td>'have only been on victorza for a few days.  I...</td>\n",
              "    </tr>\n",
              "    <tr>\n",
              "      <th>4</th>\n",
              "      <td>'I have been taking Jardiance for just over a ...</td>\n",
              "    </tr>\n",
              "  </tbody>\n",
              "</table>\n",
              "</div>"
            ],
            "text/plain": [
              "                                              review\n",
              "0  'Hey Guys,  Its been 4 months since my last po...\n",
              "1  'I was recently referred to a endocrinologist ...\n",
              "2  'Ive taken one dose of Trulicity and while I d...\n",
              "3  'have only been on victorza for a few days.  I...\n",
              "4  'I have been taking Jardiance for just over a ..."
            ]
          },
          "metadata": {
            "tags": []
          },
          "execution_count": 112
        }
      ]
    },
    {
      "cell_type": "code",
      "metadata": {
        "collapsed": true,
        "id": "0NKNfo04YjZU"
      },
      "source": [
        "#tf for LDA\n",
        "tf_vect2 = CountVectorizer()\n",
        "tf_vect2.fit(data.review)\n",
        "x4= tf_vect2.transform(data.review)\n",
        "\n",
        "x4_feature_names = tf_vect2.get_feature_names()"
      ],
      "execution_count": null,
      "outputs": []
    },
    {
      "cell_type": "code",
      "metadata": {
        "collapsed": true,
        "id": "yntMCdxoYjZU"
      },
      "source": [
        "#tf-idf for NMF\n",
        "\n",
        "tfidf_vectorizer2 = TfidfVectorizer()\n",
        "x5= tfidf_vectorizer2.fit_transform(data.review)\n",
        "\n",
        "tfidf_feature_names = tfidf_vectorizer2.get_feature_names()"
      ],
      "execution_count": null,
      "outputs": []
    },
    {
      "cell_type": "code",
      "metadata": {
        "id": "8TAHUpkSYjZV",
        "outputId": "ebfa8f8b-25f0-4014-8936-abc37fb60a9c"
      },
      "source": [
        "from sklearn.decomposition import NMF, LatentDirichletAllocation\n",
        "\n",
        "lda = LatentDirichletAllocation(n_components=10, random_state=0)\n",
        "lda.fit(x4)"
      ],
      "execution_count": null,
      "outputs": [
        {
          "output_type": "execute_result",
          "data": {
            "text/plain": [
              "LatentDirichletAllocation(batch_size=128, doc_topic_prior=None,\n",
              "             evaluate_every=-1, learning_decay=0.7,\n",
              "             learning_method='batch', learning_offset=10.0,\n",
              "             max_doc_update_iter=100, max_iter=10, mean_change_tol=0.001,\n",
              "             n_components=10, n_jobs=None, n_topics=None, perp_tol=0.1,\n",
              "             random_state=0, topic_word_prior=None,\n",
              "             total_samples=1000000.0, verbose=0)"
            ]
          },
          "metadata": {
            "tags": []
          },
          "execution_count": 120
        }
      ]
    },
    {
      "cell_type": "code",
      "metadata": {
        "id": "8JJTI15XYjZV",
        "outputId": "cf5a7114-eedf-44b1-b70b-54ac0300eee1"
      },
      "source": [
        "# Run NMF\n",
        "nmf = NMF(n_components=10, random_state=0)\n",
        "nmf.fit(x5)\n"
      ],
      "execution_count": null,
      "outputs": [
        {
          "output_type": "execute_result",
          "data": {
            "text/plain": [
              "NMF(alpha=0.0, beta_loss='frobenius', init=None, l1_ratio=0.0, max_iter=200,\n",
              "  n_components=10, random_state=0, shuffle=False, solver='cd', tol=0.0001,\n",
              "  verbose=0)"
            ]
          },
          "metadata": {
            "tags": []
          },
          "execution_count": 124
        }
      ]
    },
    {
      "cell_type": "code",
      "metadata": {
        "scrolled": true,
        "id": "3jWYVgnQYjZW",
        "outputId": "af601032-8a04-4e35-ce36-1e28100ede83"
      },
      "source": [
        "def display_topics(model, feature_names, no_top_words):\n",
        "    for topic_idx, topic in enumerate(model.components_):\n",
        "        print (\"Topic %d:\" % (topic_idx))\n",
        "        print( \" \".join([feature_names[i]\n",
        "for i in topic.argsort()[:-no_top_words - 1:-1]]))\n",
        "        \n",
        "no_top_words = 10\n",
        "\n",
        "display_topics(lda, x4_feature_names, no_top_words)"
      ],
      "execution_count": null,
      "outputs": [
        {
          "output_type": "stream",
          "text": [
            "Topic 0:\n",
            "and to the my for on this of it have\n",
            "Topic 1:\n",
            "have to the it and of my not is for\n",
            "Topic 2:\n",
            "and to my in have for the is of years\n",
            "Topic 3:\n",
            "what every worse gotten night cramps lay throw flu constantly\n",
            "Topic 4:\n",
            "and to my it been metformin the me was on\n",
            "Topic 5:\n",
            "to the it have my and was with for taking\n",
            "Topic 6:\n",
            "and the for my on been to have bad is\n",
            "Topic 7:\n",
            "the my to and on of it me in have\n",
            "Topic 8:\n",
            "and the to was my on have but of it\n",
            "Topic 9:\n",
            "im that victoza have type pounds help found meds foods\n"
          ],
          "name": "stdout"
        }
      ]
    },
    {
      "cell_type": "code",
      "metadata": {
        "id": "7U_Mp_t-YjZW",
        "outputId": "682c7727-e024-4f92-d446-98ac13f57c3e"
      },
      "source": [
        "display_topics(nmf, tfidf_feature_names, no_top_words)"
      ],
      "execution_count": null,
      "outputs": [
        {
          "output_type": "stream",
          "text": [
            "Topic 0:\n",
            "im so only are sugars 60 higher on eat units\n",
            "Topic 1:\n",
            "a1c januvia my and been metformin on has also have\n",
            "Topic 2:\n",
            "effects side all no worked well has the me for\n",
            "Topic 3:\n",
            "the and nausea to it injection after was really in\n",
            "Topic 4:\n",
            "have is to my of hair the you am that\n",
            "Topic 5:\n",
            "infection yeast ever it invokana the 10 stopped developed medicine\n",
            "Topic 6:\n",
            "not or years used to and lantus recommend do in\n",
            "Topic 7:\n",
            "sugar it my to was about over quot great med\n",
            "Topic 8:\n",
            "as ive far week trulicity so and been at on\n",
            "Topic 9:\n",
            "bad scene good fight better give luck everybody the dont\n"
          ],
          "name": "stdout"
        }
      ]
    }
  ]
}