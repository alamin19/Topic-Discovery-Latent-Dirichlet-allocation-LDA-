{
  "nbformat": 4,
  "nbformat_minor": 0,
  "metadata": {
    "colab": {
      "name": "Topic Discovery.ipynb",
      "provenance": [],
      "authorship_tag": "ABX9TyPCPNC0xTbEgiCFRJdoEG5s",
      "include_colab_link": true
    },
    "kernelspec": {
      "name": "python3",
      "display_name": "Python 3"
    },
    "language_info": {
      "name": "python"
    }
  },
  "cells": [
    {
      "cell_type": "markdown",
      "metadata": {
        "id": "view-in-github",
        "colab_type": "text"
      },
      "source": [
        "<a href=\"https://colab.research.google.com/github/alamin19/Topic-Discovery-Latent-Dirichlet-allocation-LDA-/blob/main/Topic_Discovery.ipynb\" target=\"_parent\"><img src=\"https://colab.research.google.com/assets/colab-badge.svg\" alt=\"Open In Colab\"/></a>"
      ]
    },
    {
      "cell_type": "code",
      "metadata": {
        "id": "yHL-vSDyaWzG"
      },
      "source": [
        "data= pd.read_csv(\"read_drug_reviews.txt\", sep='\\s*\"\\s*',  header=None, encoding='ascii', engine='python', names=[\"review\"])"
      ],
      "execution_count": null,
      "outputs": []
    }
  ]
}